{
  "nbformat": 4,
  "nbformat_minor": 0,
  "metadata": {
    "colab": {
      "provenance": []
    },
    "kernelspec": {
      "name": "python3",
      "display_name": "Python 3"
    },
    "language_info": {
      "name": "python"
    }
  },
  "cells": [
    {
      "cell_type": "markdown",
      "source": [
        "# Building an AI Agent with Gemini and GitHub API\n",
        "\n",
        "This guide will walk you through creating a simple but powerful AI \"Agent\" in a Google Colab notebook. This agent will use **Google's Gemini model** to understand a user's request, use a \"tool\" to fetch live data from the GitHub API, and then provide a natural language summary.\n",
        "\n",
        "### **Core Concepts you should know**\n",
        "\n",
        "*   **What is an API? (Application Programming Interface)**\n",
        "    An API is like a restaurant menu. It provides a list of pre-defined requests that one program can make to another. In our case, we will use the GitHub API to \"order\" information about a user. We don't need to know how GitHub's database works; we just need to use the menu (the API) correctly.\n",
        "\n",
        "*   **What is an LLM? (Large Language Model)**\n",
        "    An LLM, like Gemini, is a massive neural network trained on a vast amount of text and code. It excels at understanding, generating, and summarizing language. However, its knowledge is \"frozen\" at the time it was trained; it doesn't know about real-time events or private data.\n",
        "\n",
        "*   **What is an AI Agent?**\n",
        "    An AI Agent is a system that combines the language power of an LLM with the ability to take actions. It works in a loop:\n",
        "    1.  **Reason:** The LLM analyzes a request and determines if it needs more information.\n",
        "    2.  **Act:** If needed, it decides to use a \"tool\" (like calling an API).\n",
        "    3.  **Observe:** It receives the result from the tool.\n",
        "    4.  **Respond:** It uses the new information to formulate a final, comprehensive answer.\n",
        "\n",
        "*   **What is Tool Calling?**\n",
        "    Tool Calling is the mechanism that allows the LLM to take action or do something. The LLM doesn't run the code itself. Instead, it says, \"To answer this, I need you to run the `get_github_user_info` function with the username 'google'.\" Our code then executes the function and passes the result back to the LLM.\n"
      ],
      "metadata": {
        "id": "kYbzSh3gTG_v"
      }
    },
    {
      "cell_type": "markdown",
      "source": [
        "## Step 1: Setting Up the Environment\n",
        "\n",
        "Before we can write our agent, we need to install the necessary Python libraries. A library is a collection of pre-written code that helps us perform common tasks without having to write everything from scratch. We will use `pip`, the standard package installer for Python.\n",
        "\n",
        "*   `google-generativeai`: The official library from Google for interacting with the Gemini family of models.\n",
        "*   `requests`: A simple yet powerful library for making HTTP requests, which is how we will communicate with the GitHub API.\n",
        "\n",
        "### Documentation\n",
        "*   **Google AI Python SDK:** [https://ai.google.dev/gemini-api/docs/libraries](https://ai.google.dev/gemini-api/docs/libraries)\n",
        "*   **Requests Library:** [https://requests.readthedocs.io/en/latest/](https://requests.readthedocs.io/en/latest/)\n"
      ],
      "metadata": {
        "id": "Bnh1MhLgTiYG"
      }
    },
    {
      "cell_type": "markdown",
      "source": [
        "### Code\n",
        "```python\n",
        "# The '!' lets us run a command-line command from within a Colab notebook.\n",
        "# The '-q' flag stands for \"quiet,\" reducing the amount of installation text.\n",
        "# The '-U' flag ensures we install or upgrade to the latest version.\n",
        "```"
      ],
      "metadata": {
        "id": "YKLCWbfBTuJx"
      }
    },
    {
      "cell_type": "code",
      "source": [
        "!pip install --upgrade -q google-genai\n",
        "!pip install -q requests"
      ],
      "metadata": {
        "id": "BNcSoQidT0Fc"
      },
      "execution_count": null,
      "outputs": []
    },
    {
      "cell_type": "code",
      "source": [
        "import requests\n",
        "import json\n",
        "\n",
        "from google import genai\n",
        "from google.genai import types\n",
        "from google.colab import userdata"
      ],
      "metadata": {
        "id": "wlbZXFsYT36i"
      },
      "execution_count": null,
      "outputs": []
    },
    {
      "cell_type": "markdown",
      "source": [
        "\n",
        "---\n",
        "\n",
        "## Step 2: Securely Configuring the API Key\n",
        "\n",
        "### Theory\n",
        "An API Key is a secret token that you use to authenticate your requests with a service like Google's AI platform. **It is critical to keep your API keys private.** Hardcoding them directly into your script is a major security risk. Google Colab provides a \"Secrets\" manager, which is a secure way to store and access sensitive information like API keys without exposing them in your code.\n",
        "\n",
        "![Secret Key in Colab](https://github.com/RashikaKarki/Workshop---Agent-and-Tool-Calling/blob/main/Images/colab_secret.png?raw=true)\n",
        "\n"
      ],
      "metadata": {
        "id": "y15onuWXT7D1"
      }
    },
    {
      "cell_type": "code",
      "source": [
        "try:\n",
        "    # userdata.get() securely retrieves the secret you stored in the Colab UI.\n",
        "    api_key = userdata.get(<Name of your key>)\n",
        "except userdata.SecretNotFoundError:\n",
        "    print('ERROR: GOOGLE_API_KEY not found.')\n",
        "    print('Please go to the \"Key\" icon on the left sidebar of Colab, add a new secret named GOOGLE_API_KEY, and paste your key in the value field.\\n')\n",
        "except Exception as e:\n",
        "    print(f\"An error occurred during API configuration: {e}\\n\")"
      ],
      "metadata": {
        "id": "ywaShcFuVzdk"
      },
      "execution_count": null,
      "outputs": []
    },
    {
      "cell_type": "markdown",
      "source": [
        "This is the heart of our agent's ability to \"act.\" We define a standard Python function that performs a specific task: fetching data from GitHub. The magic happens in the function's documentation string (the text between triple quotes `\"\"\"...\"\"\"`). The Gemini model will read this description, the function name, and its parameters to understand what this tool does and when to use it.\n",
        "\n",
        "### Documentation\n",
        "*   **GitHub REST API - Get a User:** [https://docs.github.com/en/rest/users/users?apiVersion=2022-11-28#get-a-user](https://docs.github.com/en/rest/users/users?apiVersion=2022-11-28#get-a-user)\n",
        "\n"
      ],
      "metadata": {
        "id": "5iH_6tZKWA84"
      }
    },
    {
      "cell_type": "code",
      "source": [
        "get_github_user_info_declaration = {\n",
        "    \"name\": <name of function>,\n",
        "    \"description\": <what does the function do>,\n",
        "    \"parameters\": {\n",
        "        \"type\": \"object\",\n",
        "        \"properties\": {\n",
        "            \"username\": {\n",
        "                \"type\": <type>,\n",
        "                \"description\": <description>,\n",
        "            },\n",
        "        },\n",
        "        \"required\": <list of required fields>,\n",
        "    },\n",
        "}\n"
      ],
      "metadata": {
        "id": "28wU582BdbY1"
      },
      "execution_count": null,
      "outputs": []
    },
    {
      "cell_type": "code",
      "source": [
        "def get_github_user_info(username: str) -> str:\n",
        "    \"\"\"\n",
        "    Fetches public information for a given GitHub username. The model will read this\n",
        "    description to understand what this function does.\n",
        "\n",
        "    Args:\n",
        "        username (str): The GitHub username to look up. The model learns this is the\n",
        "                        required input.\n",
        "\n",
        "    Returns:\n",
        "        A JSON string containing the user's public GitHub information or an error message.\n",
        "    \"\"\"\n",
        "    print(f\"--- TOOL ACTIVATED: Calling GitHub API for user: {username} ---\")\n",
        "\n",
        "    # This is the specific \"endpoint\" from the GitHub API menu to get user data.\n",
        "    api_url = f\"https://api.github.com/users/{username}\"\n",
        "\n",
        "    try:\n",
        "        response = requests.get(api_url)\n",
        "        response.raise_for_status()\n",
        "        return response.json()\n",
        "    except requests.exceptions.HTTPError as http_err:\n",
        "        print(f\"--- GitHub API Error: {http_err} ---\")\n",
        "        return {\"error\": f\"HTTP error occurred: {http_err}\", \"status_code\": response.status_code}\n",
        "    except Exception as e:\n",
        "        print(f\"--- An unexpected error occurred: {e} ---\")\n",
        "        return {\"error\": f\"An unexpected error occurred: {e}\"}"
      ],
      "metadata": {
        "id": "7B9sOPzOWMhx"
      },
      "execution_count": null,
      "outputs": []
    },
    {
      "cell_type": "code",
      "source": [
        "# Call the function and see if it works as expected"
      ],
      "metadata": {
        "id": "sss-Vv4zWuaj"
      },
      "execution_count": null,
      "outputs": []
    },
    {
      "cell_type": "markdown",
      "source": [
        "### Initialize Gemini Model\n",
        "\n",
        "Now we initialize the Gemini model. The most important part of this step is passing our `get_github_user_info` function into the `tools` parameter. This \"registers\" the tool with the model, making it a part of the agent's potential actions. The model now knows it has this special capability.\n",
        "\n",
        "*   **Gemini API Tool Calling:** [https://ai.google.dev/docs/function_calling](https://ai.google.dev/docs/function_calling)\n",
        "\n"
      ],
      "metadata": {
        "id": "ax_Ykv-RW0Mj"
      }
    },
    {
      "cell_type": "code",
      "source": [
        "client = genai.Client(api_key=<api key>)\n",
        "tools = types.Tool(function_declarations= <add tools declaration here>)\n",
        "config = types.GenerateContentConfig(tools=[tools])"
      ],
      "metadata": {
        "id": "YafTBmYpXPZh"
      },
      "execution_count": null,
      "outputs": []
    },
    {
      "cell_type": "code",
      "source": [
        "github_username = input(\"Enter a GitHub username to get information about (e.g., 'google', 'microsoft'): \")\n",
        "user_prompt = f\"Please provide a summary of the GitHub user {github_username}. Tell me their display name, their bio, how many public repos they have, and how many followers they have.\"\n"
      ],
      "metadata": {
        "id": "nhvS26aWcJJj"
      },
      "execution_count": null,
      "outputs": []
    },
    {
      "cell_type": "code",
      "source": [
        "response = client.models.generate_content(\n",
        "    model=\"gemini-2.5-flash\",\n",
        "    contents=user_prompt,\n",
        "    config=config,\n",
        ")"
      ],
      "metadata": {
        "id": "SFXHPr98d9hd"
      },
      "execution_count": null,
      "outputs": []
    },
    {
      "cell_type": "code",
      "source": [
        "# Check for a function call\n",
        "if response.candidates[0].content.parts[0].function_call:\n",
        "    function_call = response.candidates[0].content.parts[0].function_call\n",
        "    print(f\"Function to call: {function_call.name}\")\n",
        "    print(f\"Arguments: {function_call.args}\")\n",
        "\n",
        "    # call the function\n",
        "\n",
        "    # Make another call by passion user data fetched by the tool\n",
        "else:\n",
        "    print(\"No function call found in the response.\")\n",
        "    print(response.text)\n"
      ],
      "metadata": {
        "id": "sr8hY63OYPNo"
      },
      "execution_count": null,
      "outputs": []
    },
    {
      "cell_type": "code",
      "source": [],
      "metadata": {
        "id": "b0nUHhIqeHuQ"
      },
      "execution_count": null,
      "outputs": []
    }
  ]
}